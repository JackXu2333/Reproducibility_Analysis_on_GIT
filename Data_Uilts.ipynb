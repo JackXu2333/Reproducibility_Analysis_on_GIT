{
 "cells": [
  {
   "cell_type": "code",
   "execution_count": 94,
   "metadata": {},
   "outputs": [],
   "source": [
    "import pickle\n",
    "import numpy as np\n",
    "import pandas as pd"
   ]
  },
  {
   "cell_type": "code",
   "execution_count": 2,
   "metadata": {},
   "outputs": [],
   "source": [
    "data = pickle.load( open(\"data/dataset.pkl\", \"rb\"))"
   ]
  },
  {
   "cell_type": "markdown",
   "metadata": {},
   "source": [
    "## Prepare dataset for modified input test"
   ]
  },
  {
   "cell_type": "code",
   "execution_count": 4,
   "metadata": {},
   "outputs": [],
   "source": [
    "# Filter only the values in the predictor\n",
    "sga2idx = {y:x for x,y in data[\"idx2sga\"].items()}\n",
    "sgaidxs = [sga2idx.get(d) for d in degs if sga2idx.get(d)]"
   ]
  },
  {
   "cell_type": "code",
   "execution_count": 5,
   "metadata": {},
   "outputs": [],
   "source": [
    "# Downgrade the sga list\n",
    "new_sga = []\n",
    "\n",
    "for curr_sample in data[\"sga\"]:\n",
    "    new_sga.append(list(set(curr_sample) & set(sgaidxs)))\n",
    "    "
   ]
  },
  {
   "cell_type": "code",
   "execution_count": null,
   "metadata": {},
   "outputs": [],
   "source": [
    "dataset = {\n",
    "    \"can\": data[\"can\"],\n",
    "    \"deg\": data[\"deg\"],\n",
    "    \"idx2can\": data[\"idx2can\"],\n",
    "    \"idx2deg\": data[\"idx2deg\"],\n",
    "    \"idx2sga\": data[\"idx2sga\"],\n",
    "    \"sga\": new_sga,\n",
    "    \"tmr\": data[\"tmr\"]}\n",
    "\n",
    "with open(\"data/dataset_downgraded.pkl\", \"wb\") as f:\n",
    "      pickle.dump(dataset, f, protocol=2)"
   ]
  },
  {
   "cell_type": "markdown",
   "metadata": {},
   "source": [
    "## Prepare dataset for non binary target test"
   ]
  },
  {
   "cell_type": "code",
   "execution_count": null,
   "metadata": {},
   "outputs": [],
   "source": [
    "# Create dic to translated up/dn to 1 / -1\n",
    "deg_sign_dic = {\"up\":1, \"dn\":-1}\n",
    "\n",
    "# Get the sign & value in the predicted (degs) \n",
    "ud_degs = list(data[\"idx2deg\"].values())\n",
    "\n",
    "degs = [i.split('_', 1)[1] for i in ud_degs]\n",
    "deg_sign = [ deg_sign_dic.get(i.split('_', 1)[0]) for i in ud_degs]"
   ]
  },
  {
   "cell_type": "markdown",
   "metadata": {},
   "source": [
    "### Checkpoint"
   ]
  },
  {
   "cell_type": "code",
   "execution_count": 131,
   "metadata": {},
   "outputs": [],
   "source": [
    "#Check if exisit genes with simultaneousover/under expression\n",
    "error = 0\n",
    "\n",
    "for i in repeated:\n",
    "    error += (df.loc[i].iloc[0] * df.loc[i].iloc[1]).sum()\n",
    "    \n",
    "error"
   ]
  },
  {
   "cell_type": "code",
   "execution_count": 147,
   "metadata": {},
   "outputs": [],
   "source": [
    "# Make duplicates\n",
    "deg_formated = np.copy(data[\"deg\"])"
   ]
  },
  {
   "cell_type": "code",
   "execution_count": 148,
   "metadata": {},
   "outputs": [],
   "source": [
    "# Format new target\n",
    "for i in range(4468):\n",
    "    for j in range(2207):\n",
    "        deg_formated[i,j] = 0 if deg_formated[i,j] == 0 else deg_sign[j]"
   ]
  },
  {
   "cell_type": "code",
   "execution_count": 149,
   "metadata": {},
   "outputs": [],
   "source": [
    "df_formated = pd.DataFrame(np.transpose(deg_formated), index=degs, columns=data[\"tmr\"])\n",
    "df_formated_grouped = df_formated.groupby(level=0).sum()"
   ]
  },
  {
   "cell_type": "code",
   "execution_count": 165,
   "metadata": {},
   "outputs": [],
   "source": [
    "# Reformat idx2deg\n",
    "deg_names = df_formated_grouped.index.values\n",
    "idx2deg = {count:value for count, value in enumerate(deg_names)}"
   ]
  },
  {
   "cell_type": "code",
   "execution_count": 171,
   "metadata": {},
   "outputs": [],
   "source": [
    "dataset = {\n",
    "    \"can\": data[\"can\"],\n",
    "    \"deg\": np.transpose(df_formated_grouped.to_numpy()),\n",
    "    \"idx2can\": data[\"idx2can\"],\n",
    "    \"idx2deg\": idx2deg,\n",
    "    \"idx2sga\": data[\"idx2sga\"],\n",
    "    \"sga\": data[\"sga\"],\n",
    "    \"tmr\": data[\"tmr\"]}\n",
    "\n",
    "with open(\"data/dataset_formatted.pkl\", \"wb\") as f:\n",
    "    pickle.dump(dataset, f, protocol=2)"
   ]
  },
  {
   "cell_type": "markdown",
   "metadata": {},
   "source": [
    "### Formate BRCA DEGs for comparison\n",
    "Depreciated"
   ]
  },
  {
   "cell_type": "code",
   "execution_count": 35,
   "metadata": {},
   "outputs": [],
   "source": [
    "# BRCA: 13\n",
    "\n",
    "BRCA_idx = np.where(data[\"can\"] == 13)\n",
    "deg2idx = {y:x for x,y in data[\"idx2deg\"].items()}\n",
    "BRCA_sample = [ data[\"tmr\"][index] for index in BRCA_idx[0]]"
   ]
  },
  {
   "cell_type": "code",
   "execution_count": 52,
   "metadata": {},
   "outputs": [],
   "source": [
    "deg_filter = data[\"deg\"][BRCA_idx, :][0]"
   ]
  },
  {
   "cell_type": "code",
   "execution_count": 89,
   "metadata": {},
   "outputs": [],
   "source": [
    "for i in range(851):\n",
    "    for j in range(2207):\n",
    "        deg_filter[i,j] = 0 if deg_filter[i,j] == 0 else deg_sign[j]"
   ]
  },
  {
   "cell_type": "code",
   "execution_count": 99,
   "metadata": {},
   "outputs": [],
   "source": [
    "import collections\n",
    "repeated = [item for item, count in collections.Counter(degs).items() if count > 1]"
   ]
  },
  {
   "cell_type": "code",
   "execution_count": 104,
   "metadata": {},
   "outputs": [],
   "source": [
    "df = pd.DataFrame(np.transpose(deg_filter), index=degs, columns=BRCA_sample)\n",
    "df_grouped = df.groupby(level=0).sum().reset_index()\n",
    "df_grouped.to_csv('BRCA_Original.csv', index=True, header=True, sep=',')"
   ]
  }
 ],
 "metadata": {
  "kernelspec": {
   "display_name": "env_name",
   "language": "python",
   "name": "env_name"
  },
  "language_info": {
   "codemirror_mode": {
    "name": "ipython",
    "version": 3
   },
   "file_extension": ".py",
   "mimetype": "text/x-python",
   "name": "python",
   "nbconvert_exporter": "python",
   "pygments_lexer": "ipython3",
   "version": "3.6.13"
  }
 },
 "nbformat": 4,
 "nbformat_minor": 2
}
